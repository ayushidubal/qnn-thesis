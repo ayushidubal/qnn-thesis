{
 "cells": [
  {
   "cell_type": "code",
   "execution_count": 3,
   "metadata": {},
   "outputs": [],
   "source": [
    "from qiskit_machine_learning.algorithms import QSVC\n",
    "from qiskit_machine_learning.kernels import *\n",
    "from qiskit.circuit.library import ZFeatureMap\n",
    "from qiskit.utils import QuantumInstance\n",
    "from qiskit import BasicAer\n",
    "\n",
    "from sklearn.model_selection import train_test_split\n",
    "from sklearn.metrics import accuracy_score, precision_score, recall_score, f1_score\n",
    "from sklearn.svm import SVC\n",
    "\n",
    "from time import time\n",
    "import numpy as np\n",
    "from functools import reduce"
   ]
  },
  {
   "cell_type": "code",
   "execution_count": 4,
   "metadata": {},
   "outputs": [],
   "source": [
    "def read_data(datafile, labelindex):\n",
    "    data_file = open(datafile)\n",
    "    datalines = data_file.readlines()\n",
    "    database = []\n",
    "    labels = []\n",
    "    all_labels = set()\n",
    "    for data in datalines[1:]:\n",
    "        feature_vector = list(data.strip().split(\",\"))\n",
    "        database.append(list(map(float, feature_vector[:labelindex] + feature_vector[labelindex+1:])))\n",
    "        labels.append(feature_vector[labelindex])\n",
    "        all_labels.add(feature_vector[labelindex])\n",
    "    label_encodings = {d:i for i,d in enumerate(all_labels)}\n",
    "    encoded_labels = [label_encodings[label] for label in labels]\n",
    "\n",
    "    return np.array(database), np.array(encoded_labels)"
   ]
  },
  {
   "cell_type": "code",
   "execution_count": 5,
   "metadata": {},
   "outputs": [],
   "source": [
    "class classify:        \n",
    "    def __init__(self, datafile, labelindex):\n",
    "        self.database, self.labels = read_data(datafile, labelindex)\n",
    "        self.feature_dim = self.database.shape[1]\n",
    "    \n",
    "    def split(self, train_size=0.8, random_state=42):\n",
    "        return train_test_split(self.database, self.labels, train_size=train_size, random_state=random_state)\n",
    "    \n",
    "    def qsvc(self, feature_map=None, seed=1376):\n",
    "        if feature_map is None:\n",
    "            feature_map = ZFeatureMap(self.feature_dim)\n",
    "\n",
    "        kernel = QuantumKernel(feature_map=feature_map,\n",
    "                                    quantum_instance=QuantumInstance(BasicAer.get_backend('statevector_simulator'),\n",
    "                                                    shots=1,\n",
    "                                                    seed_simulator=seed,\n",
    "                                                    seed_transpiler=seed))\n",
    "        qsvc1 = QSVC(quantum_kernel=kernel)\n",
    "        self.classifier = qsvc1\n",
    "\n",
    "    def csvc(self, kernel=\"rbf\", gamma=\"scale\", seed=1376):\n",
    "        csvc1 = SVC(kernel=kernel, gamma=gamma, random_state=seed)\n",
    "        self.classifier = csvc1\n",
    "\n",
    "    def train(self, train_data, train_labels):\n",
    "        start = time()\n",
    "        self.classifier.fit(train_data, train_labels)\n",
    "        end = time()\n",
    "        print(\"Time taken to train: \", end-start)\n",
    "    \n",
    "    def predict(self, test_data):\n",
    "        start = time()\n",
    "        pred_labels = self.classifier.predict(test_data)\n",
    "        end = time()\n",
    "        print(\"Time taken to predict: \", end-start)\n",
    "        return pred_labels\n",
    "    \n",
    "    def get_scores(self, test_labels, pred_labels):\n",
    "        acc =  accuracy_score(test_labels, pred_labels)\n",
    "        prec = precision_score(test_labels, pred_labels, average=\"macro\")\n",
    "        recall = recall_score(test_labels, pred_labels, average=\"macro\")\n",
    "        f1 = f1_score(test_labels, pred_labels, average=\"macro\")\n",
    "\n",
    "        print(\"Accuracy: \", acc)\n",
    "        print(\"Precision: \", prec)\n",
    "        print(\"Recall: \", recall)\n",
    "        print(\"F1: \", f1)\n",
    "\n",
    "        return acc, prec, recall, f1"
   ]
  },
  {
   "cell_type": "code",
   "execution_count": 19,
   "metadata": {},
   "outputs": [],
   "source": [
    "def eq_8(x):\n",
    "    return np.pi*reduce(lambda a,b: a*b, x)\n",
    "\n",
    "def eq_9(x):\n",
    "    return (np.pi/2)*reduce(lambda a,b: (1-a)*(1-b), x)\n",
    "\n",
    "def eq_10(x):\n",
    "    return np.pi*reduce(lambda a,b: np.exp(np.square(a-b)/8), x)\n",
    "\n",
    "def eq_11(x):\n",
    "    return (np.pi/3)*reduce(lambda a,b: 1/(np.cos(a)*np.cos(b)), x)\n",
    "\n",
    "def eq_12(x):\n",
    "    return np.pi*reduce(lambda a,b: np.cos(a)*np.cos(b), x)"
   ]
  },
  {
   "cell_type": "code",
   "execution_count": 21,
   "metadata": {},
   "outputs": [],
   "source": [
    "def eq_8_1(x):\n",
    "    phi = x[0] if len(x) == 1 else 0\n",
    "    for i in range(len(x)):\n",
    "        for j in range(i+1, len(x)):\n",
    "            phi += x[i]*x[j]\n",
    "    return (np.pi/2)*phi\n",
    "\n",
    "def eq_8_2(x):\n",
    "    phi = x[0] if len(x) == 1 else x[0]*x[1]\n",
    "    return np.pi*phi\n",
    "\n",
    "def eq_9_1(x):\n",
    "    phi = x[0] if len(x) == 1 else 0\n",
    "    for i in range(len(x)):\n",
    "        for j in range(i+1, len(x)):\n",
    "            phi += (1-x[i])*(1-x[j])\n",
    "    return (np.pi/2)*phi\n",
    "\n",
    "def eq_10_1(x):\n",
    "    phi = x[0] if len(x) == 1 else 0\n",
    "    for i in range(len(x)):\n",
    "        for j in range(i+1, len(x)):\n",
    "            phi += np.exp(np.square(x[i]-x[j])/8)\n",
    "    return np.pi*phi\n",
    "\n",
    "def eq_11_1(x):\n",
    "    phi = x[0] if len(x) == 1 else 0\n",
    "    for i in range(len(x)):\n",
    "        for j in range(i+1, len(x)):\n",
    "            phi += 1/(np.cos(x[i])*np.cos(x[j]))\n",
    "    return (np.pi/3)*phi\n",
    "\n",
    "def eq_12_1(x):\n",
    "    phi = x[0] if len(x) == 1 else 0\n",
    "    for i in range(len(x)):\n",
    "        for j in range(i+1, len(x)):\n",
    "            phi += np.cos(x[i])*np.cos(x[j])\n",
    "    return np.pi*phi    "
   ]
  },
  {
   "cell_type": "code",
   "execution_count": null,
   "metadata": {},
   "outputs": [],
   "source": [
    "qc = classify(\"HeartFailure_Dataset.csv\", 12)\n",
    "train_data, test_data, train_labels, test_labels = qc.split()\n",
    "qc.qsvc()\n",
    "qc.train(train_data, train_labels)\n",
    "pred_labels = qc.predict(test_data)\n",
    "qc.print_scores(test_labels, pred_labels)"
   ]
  },
  {
   "cell_type": "code",
   "execution_count": null,
   "metadata": {},
   "outputs": [],
   "source": [
    "qc1 = classify(\"HeartFailure_Dataset.csv\", 12)\n",
    "train_data, test_data, train_labels, test_labels = qc1.split()\n",
    "fm1 = ZFeatureMap(qc1.feature_dim, data_map_func=eq_8)\n",
    "qc1.qsvc()\n",
    "qc1.train(train_data, train_labels)\n",
    "pred_labels = qc1.predict(test_data)\n",
    "qc1.print_scores(test_labels, pred_labels)"
   ]
  },
  {
   "cell_type": "code",
   "execution_count": null,
   "metadata": {},
   "outputs": [],
   "source": [
    "qc2 = classify(\"HeartFailure_Dataset.csv\", 12)\n",
    "train_data, test_data, train_labels, test_labels = qc2.split()\n",
    "fm2 = ZFeatureMap(qc2.feature_dim, data_map_func=eq_9)\n",
    "qc2.qsvc()\n",
    "qc2.train(train_data, train_labels)\n",
    "pred_labels = qc2.predict(test_data)\n",
    "qc2.print_scores(test_labels, pred_labels)"
   ]
  },
  {
   "cell_type": "code",
   "execution_count": null,
   "metadata": {},
   "outputs": [],
   "source": [
    "qc3 = classify(\"HeartFailure_Dataset.csv\", 12)\n",
    "train_data, test_data, train_labels, test_labels = qc3.split()\n",
    "fm3 = ZFeatureMap(qc3.feature_dim, data_map_func=eq_10)\n",
    "qc3.qsvc()\n",
    "qc3.train(train_data, train_labels)\n",
    "pred_labels = qc3.predict(test_data)\n",
    "qc3.print_scores(test_labels, pred_labels)"
   ]
  },
  {
   "cell_type": "code",
   "execution_count": null,
   "metadata": {},
   "outputs": [],
   "source": [
    "qc4 = classify(\"HeartFailure_Dataset.csv\", 12)\n",
    "train_data, test_data, train_labels, test_labels = qc4.split()\n",
    "fm4 = ZFeatureMap(qc4.feature_dim, data_map_func=eq_11)\n",
    "qc4.qsvc()\n",
    "qc4.train(train_data, train_labels)\n",
    "pred_labels = qc4.predict(test_data)\n",
    "qc4.print_scores(test_labels, pred_labels)"
   ]
  },
  {
   "cell_type": "code",
   "execution_count": null,
   "metadata": {},
   "outputs": [],
   "source": [
    "qc5 = classify(\"HeartFailure_Dataset.csv\", 12)\n",
    "train_data, test_data, train_labels, test_labels = qc5.split()\n",
    "fm5 = ZFeatureMap(qc5.feature_dim, data_map_func=eq_12)\n",
    "qc5.qsvc()\n",
    "qc5.train(train_data, train_labels)\n",
    "pred_labels = qc5.predict(test_data)\n",
    "qc5.print_scores(test_labels, pred_labels)"
   ]
  },
  {
   "cell_type": "code",
   "execution_count": null,
   "metadata": {},
   "outputs": [],
   "source": [
    "cc = classify(\"HeartFailure_Dataset.csv\", 12)\n",
    "train_data, test_data, train_labels, test_labels = cc.split()\n",
    "cc.csvc(kernel='rbf')\n",
    "cc.train(train_data, train_labels)\n",
    "pred_labels = cc.predict(test_data)\n",
    "cc.print_scores(test_labels, pred_labels)"
   ]
  },
  {
   "cell_type": "code",
   "execution_count": null,
   "metadata": {},
   "outputs": [],
   "source": [
    "cc1 = classify(\"HeartFailure_Dataset.csv\", 12)\n",
    "train_data, test_data, train_labels, test_labels = cc1.split()\n",
    "cc1.csvc(kernel='linear')\n",
    "cc1.train(train_data, train_labels)\n",
    "pred_labels = cc1.predict(test_data)\n",
    "cc1.print_scores(test_labels, pred_labels)"
   ]
  },
  {
   "cell_type": "code",
   "execution_count": null,
   "metadata": {},
   "outputs": [],
   "source": [
    "cc2 = classify(\"HeartFailure_Dataset.csv\", 12)\n",
    "train_data, test_data, train_labels, test_labels = cc2.split()\n",
    "cc2.csvc(kernel='poly')\n",
    "cc2.train(train_data, train_labels)\n",
    "pred_labels = cc2.predict(test_data)\n",
    "cc2.print_scores(test_labels, pred_labels)"
   ]
  },
  {
   "cell_type": "code",
   "execution_count": null,
   "metadata": {},
   "outputs": [],
   "source": [
    "cc3 = classify(\"HeartFailure_Dataset.csv\", 12)\n",
    "train_data, test_data, train_labels, test_labels = cc3.split()\n",
    "cc3.csvc(kernel='sigmoid')\n",
    "cc3.train(train_data, train_labels)\n",
    "pred_labels = cc3.predict(test_data)\n",
    "cc3.print_scores(test_labels, pred_labels)"
   ]
  },
  {
   "cell_type": "code",
   "execution_count": null,
   "metadata": {},
   "outputs": [],
   "source": []
  }
 ],
 "metadata": {
  "kernelspec": {
   "display_name": "Python 3 (ipykernel)",
   "language": "python",
   "name": "python3"
  },
  "language_info": {
   "codemirror_mode": {
    "name": "ipython",
    "version": 3
   },
   "file_extension": ".py",
   "mimetype": "text/x-python",
   "name": "python",
   "nbconvert_exporter": "python",
   "pygments_lexer": "ipython3",
   "version": "3.10.4 (tags/v3.10.4:9d38120, Mar 23 2022, 23:13:41) [MSC v.1929 64 bit (AMD64)]"
  },
  "vscode": {
   "interpreter": {
    "hash": "369f2c481f4da34e4445cda3fffd2e751bd1c4d706f27375911949ba6bb62e1c"
   }
  }
 },
 "nbformat": 4,
 "nbformat_minor": 4
}
